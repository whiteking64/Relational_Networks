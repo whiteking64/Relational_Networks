{
 "cells": [
  {
   "cell_type": "markdown",
   "metadata": {},
   "source": [
    "# データセットの作成・保存"
   ]
  },
  {
   "cell_type": "code",
   "execution_count": 11,
   "metadata": {},
   "outputs": [],
   "source": [
    "import os\n",
    "import random\n",
    "import pickle\n",
    "import numpy as np\n",
    "import cv2"
   ]
  },
  {
   "cell_type": "code",
   "execution_count": 12,
   "metadata": {},
   "outputs": [],
   "source": [
    "train_size = 9800\n",
    "test_size = 200\n",
    "img_size = 75\n",
    "size = 5\n",
    "question_size = 11 # 6 for one-hot vector of color, 2 for question type, 3 for question subtype\n",
    "#quiestion : [r, g, b, o, k, y, non_relation, relation, subtype1, subtype2, subtype3]\n",
    "#Answer : [yes, no, rectangle, circle, r, g, b, o, k, y], onehot vector"
   ]
  },
  {
   "cell_type": "code",
   "execution_count": 13,
   "metadata": {},
   "outputs": [],
   "source": [
    "#問題はそれぞれ10問\n",
    "nb_questions = 10\n",
    "dirs = './data'\n",
    "\n",
    "colors = [\n",
    "    (0, 0, 255), #r\n",
    "    (0, 255, 0), #g\n",
    "    (255, 0, 0), #b\n",
    "    (0, 156, 255), #o\n",
    "    (128, 128, 128), #k\n",
    "    (0, 255, 255) #y\n",
    "]"
   ]
  },
  {
   "cell_type": "code",
   "execution_count": 14,
   "metadata": {},
   "outputs": [
    {
     "name": "stdout",
     "output_type": "stream",
     "text": [
      "directory ./data already exists\n"
     ]
    }
   ],
   "source": [
    "try:\n",
    "    os.makedirs(dirs)\n",
    "except:\n",
    "    print('directory {} already exists'.format(dirs))"
   ]
  },
  {
   "cell_type": "markdown",
   "metadata": {},
   "source": [
    "## 図形の中心座標の生成\n",
    "sizeは図形の大きさを意味している  \n",
    "object内に要素がある限り，whileを抜けない  \n",
    "図形同士が重なるとまずいため.  \n",
    "もし重ならなかったら，pasをTrueにして，whileを抜ける．生成されたcenterを返す．"
   ]
  },
  {
   "cell_type": "code",
   "execution_count": 15,
   "metadata": {},
   "outputs": [],
   "source": [
    "def center_generate(objects):\n",
    "    while True:\n",
    "        pas = True\n",
    "        center = np.random.randint(0+size, img_size - size, 2)\n",
    "        if len(objects) > 0:\n",
    "            for name, c, shape in objects:\n",
    "                if ((center - c) ** 2).sum() < ((size * 2) ** 2):\n",
    "                    pas = False\n",
    "        if pas:\n",
    "            return center"
   ]
  },
  {
   "cell_type": "markdown",
   "metadata": {},
   "source": [
    "## データセット構築\n",
    "オブジェクトの各要素はタプルになっている:\n",
    "(色集合のインデックス， 色， 形（'r' or 'c'）)"
   ]
  },
  {
   "cell_type": "code",
   "execution_count": 16,
   "metadata": {},
   "outputs": [],
   "source": [
    "def build_dataset():\n",
    "    objects = [] #6つのランダムな形の図形でそれぞれ違う色の図形を入れるリスト\n",
    "    img = np.ones((img_size, img_size, 3)) * 255 #CNNへの入力用に画像を生成\n",
    "    for color_id, color in enumerate(colors):\n",
    "        center = center_generate(objects)\n",
    "        if random.random() < 0.5:\n",
    "            #長方形の描画\n",
    "            #図形の描画のスタート位置，終了位置\n",
    "            start = (center[0]-size, center[1]-size)\n",
    "            end = (center[0]+size, center[1]+size)\n",
    "            cv2.rectangle(img, start, end, color, -1)\n",
    "            objects.append((color_id, center, 'r'))\n",
    "        else:\n",
    "            #円の描画\n",
    "            center_ = (center[0], center[1])\n",
    "            cv2.circle(img, center_, size, color, -1)\n",
    "            objects.append((color_id, center, 'c'))\n",
    "\n",
    "    rel_questions = []\n",
    "    norel_questions = []\n",
    "    rel_answers = []\n",
    "    norel_answers = []\n",
    "    #Non-relational questions\n",
    "    for _ in range(nb_questions):\n",
    "        question = np.zeros((question_size)) #質問ベクトルの初期化\n",
    "\n",
    "        color = random.randint(0, 5) #この場合，5も含むのでnumpyのrandomと注意\n",
    "        question[color] = 1 #colorのone-hot\n",
    "        question[6] = 1 #non_relation\n",
    "        subtype = random.randint(0, 2) #subtypeインデックスの生成\n",
    "        question[subtype+8] = 1 #subtypeのonehot\n",
    "        norel_questions.append(question)\n",
    "\n",
    "        #answer(正解データ)のonehotベクトルを考えた時，1が入るインデックスを格納\n",
    "        #Answer : [yes, no, rectangle, circle, r, g, b, o, k, y]\n",
    "        if subtype == 0:\n",
    "            #query shape->rectangle/circle\n",
    "            if objects[color][2] == 'r': #図形が長方形だった場合\n",
    "                answer = 2\n",
    "            else:\n",
    "                answer = 3\n",
    "\n",
    "        elif subtype == 1:\n",
    "            #query horizontal position->yes/no\n",
    "            if objects[color][1][0] < img_size / 2: #指定のカラーの図形が全体の写真の左にある場合\n",
    "                answer = 0\n",
    "            else:\n",
    "                answer = 1\n",
    "\n",
    "        elif subtype == 2:\n",
    "            #query vertical position->yes/no\n",
    "            if objects[color][1][1] < img_size / 2: #全体の写真の上にある場合\n",
    "                answer = 0\n",
    "            else:\n",
    "                answer = 1\n",
    "        norel_answers.append(answer)\n",
    "\n",
    "    #Relational questions\n",
    "    for _ in range(nb_questions):\n",
    "        question = np.zeros((question_size)) #長さ11のベクトル\n",
    "        color = random.randint(0, 5)\n",
    "        question[color] = 1\n",
    "        question[7] = 1#relation\n",
    "        subtype = random.randint(0, 2)\n",
    "        question[subtype+8] = 1\n",
    "        rel_questions.append(question)\n",
    "\n",
    "        if subtype == 0:\n",
    "            #closest-to->rectangle/circle\n",
    "            my_obj = objects[color][1]\n",
    "            dist_list = [((my_obj - obj[1]) ** 2).sum() for obj in objects]\n",
    "            dist_list[dist_list.index(0)] = 999\n",
    "            closest = np.argmin(dist_list)\n",
    "            if objects[closest][2] == 'r':\n",
    "                answer = 2\n",
    "            else:\n",
    "                answer = 3\n",
    "\n",
    "        elif subtype == 1:\n",
    "            #furthest-from->rectangle/circle\n",
    "            my_obj = objects[color][1]\n",
    "            dist_list = [((my_obj - obj[1]) ** 2).sum() for obj in objects]\n",
    "            furthest = np.argmax(dist_list)\n",
    "            if objects[furthest][2] == 'r':\n",
    "                answer = 2\n",
    "            else:\n",
    "                answer = 3\n",
    "\n",
    "        elif subtype == 2:\n",
    "            #count->1~6\n",
    "            my_obj = objects[color][2]\n",
    "            count = -1\n",
    "            for obj in objects:\n",
    "                if obj[2] == my_obj:\n",
    "                    count += 1\n",
    "            answer = count+4\n",
    "\n",
    "        rel_answers.append(answer)\n",
    "\n",
    "    #rel/non_relをタプルでリストに追加\n",
    "    relations = (rel_questions, rel_answers)\n",
    "    norelations = (norel_questions, norel_answers)\n",
    "\n",
    "    img = img/255.\n",
    "    dataset = (img, relations, norelations)\n",
    "    return dataset"
   ]
  },
  {
   "cell_type": "markdown",
   "metadata": {},
   "source": [
    "## train data, test_dataの作成を実行"
   ]
  },
  {
   "cell_type": "code",
   "execution_count": 17,
   "metadata": {},
   "outputs": [
    {
     "name": "stdout",
     "output_type": "stream",
     "text": [
      "building test datasets...\n",
      "building train datasets...\n"
     ]
    }
   ],
   "source": [
    "print('building test datasets...')\n",
    "test_datasets = [build_dataset() for _ in range(test_size)]\n",
    "print('building train datasets...')\n",
    "train_datasets = [build_dataset() for _ in range(train_size)]"
   ]
  },
  {
   "cell_type": "markdown",
   "metadata": {},
   "source": [
    "## データセットの保存"
   ]
  },
  {
   "cell_type": "code",
   "execution_count": 18,
   "metadata": {},
   "outputs": [
    {
     "name": "stdout",
     "output_type": "stream",
     "text": [
      "saving datasets...\n",
      "datasets saved at ./data/sort-of-clevr.pickle\n"
     ]
    }
   ],
   "source": [
    "print('saving datasets...')\n",
    "filename = os.path.join(dirs, 'sort-of-clevr.pickle')\n",
    "\n",
    "with  open(filename, 'wb') as f:\n",
    "    pickle.dump((train_datasets, test_datasets), f) #データセットをバイト列にして書き出す\n",
    "print('datasets saved at {}'.format(filename))"
   ]
  },
  {
   "cell_type": "code",
   "execution_count": null,
   "metadata": {},
   "outputs": [],
   "source": []
  }
 ],
 "metadata": {
  "kernelspec": {
   "display_name": "Python 3",
   "language": "python",
   "name": "python3"
  },
  "language_info": {
   "codemirror_mode": {
    "name": "ipython",
    "version": 3
   },
   "file_extension": ".py",
   "mimetype": "text/x-python",
   "name": "python",
   "nbconvert_exporter": "python",
   "pygments_lexer": "ipython3",
   "version": "3.6.3"
  }
 },
 "nbformat": 4,
 "nbformat_minor": 2
}
